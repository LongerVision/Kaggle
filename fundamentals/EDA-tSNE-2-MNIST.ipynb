{
 "cells": [
  {
   "cell_type": "code",
   "execution_count": null,
   "metadata": {},
   "outputs": [],
   "source": [
    "# Copy and paste from\n",
    "# https://towardsdatascience.com/visualising-high-dimensional-datasets-using-pca-and-t-sne-in-python-8ef87e7915b\n",
    "# with trivial modifications\n",
    "#\n",
    "# Author: Nobody in Computer Vision\n",
    "# Date: 2022-03-04\n",
    "# \n",
    "# Contacts:\n",
    "# Company: Longer Vision Technology\n",
    "# Email: jiapei@longervision.com\n",
    "# Website: https://www.longervision.com"
   ]
  }
 ],
 "metadata": {
  "language_info": {
   "name": "python"
  },
  "orig_nbformat": 4
 },
 "nbformat": 4,
 "nbformat_minor": 2
}
